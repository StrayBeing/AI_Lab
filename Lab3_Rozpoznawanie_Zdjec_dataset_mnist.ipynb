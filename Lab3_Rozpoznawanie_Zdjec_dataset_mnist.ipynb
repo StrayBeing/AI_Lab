{
  "nbformat": 4,
  "nbformat_minor": 0,
  "metadata": {
    "colab": {
      "provenance": [],
      "authorship_tag": "ABX9TyMShSB4rMKlnzSAILIac/BF",
      "include_colab_link": true
    },
    "kernelspec": {
      "name": "python3",
      "display_name": "Python 3"
    },
    "language_info": {
      "name": "python"
    }
  },
  "cells": [
    {
      "cell_type": "markdown",
      "metadata": {
        "id": "view-in-github",
        "colab_type": "text"
      },
      "source": [
        "<a href=\"https://colab.research.google.com/github/StrayBeing/AI_Lab/blob/main/Lab3_Rozpoznawanie_Zdjec_dataset_mnist.ipynb\" target=\"_parent\"><img src=\"https://colab.research.google.com/assets/colab-badge.svg\" alt=\"Open In Colab\"/></a>"
      ]
    },
    {
      "cell_type": "code",
      "execution_count": 57,
      "metadata": {
        "id": "-3oe41qU8IRQ"
      },
      "outputs": [],
      "source": [
        "import numpy as np\n",
        "import tensorflow as tf\n",
        "import cv2\n",
        "import matplotlib.pyplot as plt\n",
        "import tensorflow_datasets as tfds"
      ]
    },
    {
      "cell_type": "code",
      "source": [
        "mnist_dataset,minst_info = tfds.load(name='mnist',with_info=True,as_supervised=True)\n",
        "mnist_train, mnist_test = mnist_dataset['train'], mnist_dataset['test']\n",
        "num_validation_samples = 0.1 * minst_info.splits['train'].num_examples\n",
        "num_validation_samples = tf.cast(num_validation_samples,tf.int64)\n",
        "num_test_samples = minst_info.splits['test'].num_examples\n",
        "num_test_samples = tf.cast(num_test_samples,tf.int64)"
      ],
      "metadata": {
        "id": "YSfJE10M8hJ6"
      },
      "execution_count": 58,
      "outputs": []
    },
    {
      "cell_type": "code",
      "source": [
        "def scale(image,label):\n",
        "  image=tf.cast(image,tf.float32)\n",
        "  image/=255.\n",
        "  return image,label\n",
        "  scaled_train_and_validation_data=mnist_train.map(scale)\n",
        "  test_data=mnist_test.map(scale)\n",
        "scaled_train_and_validation_data=mnist_train.map(scale)\n",
        "test_data=mnist_test.map(scale)"
      ],
      "metadata": {
        "id": "_lF112id86gX"
      },
      "execution_count": 59,
      "outputs": []
    },
    {
      "cell_type": "code",
      "source": [
        "BUFFER_SIZE = 1000\n",
        "shuffled_train_and_validation_data = scaled_train_and_validation_data.shuffle(BUFFER_SIZE)\n",
        "validation_data = shuffled_train_and_validation_data.take(num_validation_samples)\n",
        "train_data = shuffled_train_and_validation_data.skip(num_validation_samples)"
      ],
      "metadata": {
        "id": "f8N50W3-9Dg4"
      },
      "execution_count": 60,
      "outputs": []
    },
    {
      "cell_type": "code",
      "source": [
        "BATCH_SIZE =100\n",
        "train_data = train_data.batch(BATCH_SIZE)\n",
        "validation_data = validation_data.batch(num_validation_samples)\n",
        "test_data = test_data.batch(num_test_samples)\n",
        "validation_inputs, validation_targets = next(iter(validation_data))\n",
        "print(validation_inputs.shape,validation_targets.shape)"
      ],
      "metadata": {
        "colab": {
          "base_uri": "https://localhost:8080/"
        },
        "id": "sha-rAXI9O-M",
        "outputId": "a3511a67-762c-4c80-e5d4-ca98713e2f5f"
      },
      "execution_count": 61,
      "outputs": [
        {
          "output_type": "stream",
          "name": "stdout",
          "text": [
            "(6000, 28, 28, 1) (6000,)\n"
          ]
        }
      ]
    },
    {
      "cell_type": "code",
      "source": [
        "input_size = 784\n",
        "output_size =10\n",
        "hidden_layer_size = 50\n",
        "model = tf.keras.Sequential([\n",
        "    tf.keras.layers.Flatten(input_shape=(28,28,1)),\n",
        "    tf.keras.layers.Dense(hidden_layer_size,activation='relu'),\n",
        "    tf.keras.layers.Dense(hidden_layer_size,activation='relu'),\n",
        "    tf.keras.layers.Dense(output_size,activation='softmax')\n",
        "])\n",
        "model.compile(optimizer='adam',loss='sparse_categorical_crossentropy',metrics=['accuracy'])"
      ],
      "metadata": {
        "id": "KaChJakk-FRg"
      },
      "execution_count": 62,
      "outputs": []
    },
    {
      "cell_type": "code",
      "source": [
        "NUM_EPOCHS= 30\n",
        "early_stopping = tf.keras.callbacks.EarlyStopping(patience=2)\n",
        "model.fit(train_data,epochs=NUM_EPOCHS,callbacks=[early_stopping],validation_data=(validation_inputs,validation_targets),verbose=1)"
      ],
      "metadata": {
        "colab": {
          "base_uri": "https://localhost:8080/"
        },
        "id": "i0gz2KMV-0OA",
        "outputId": "ee3d0b6c-e38e-45b3-c22d-835648c2858a"
      },
      "execution_count": 63,
      "outputs": [
        {
          "output_type": "stream",
          "name": "stdout",
          "text": [
            "Epoch 1/30\n",
            "\u001b[1m540/540\u001b[0m \u001b[32m━━━━━━━━━━━━━━━━━━━━\u001b[0m\u001b[37m\u001b[0m \u001b[1m8s\u001b[0m 12ms/step - accuracy: 0.7861 - loss: 0.7380 - val_accuracy: 0.9338 - val_loss: 0.2320\n",
            "Epoch 2/30\n",
            "\u001b[1m540/540\u001b[0m \u001b[32m━━━━━━━━━━━━━━━━━━━━\u001b[0m\u001b[37m\u001b[0m \u001b[1m3s\u001b[0m 4ms/step - accuracy: 0.9437 - loss: 0.1962 - val_accuracy: 0.9468 - val_loss: 0.1743\n",
            "Epoch 3/30\n",
            "\u001b[1m540/540\u001b[0m \u001b[32m━━━━━━━━━━━━━━━━━━━━\u001b[0m\u001b[37m\u001b[0m \u001b[1m3s\u001b[0m 5ms/step - accuracy: 0.9566 - loss: 0.1468 - val_accuracy: 0.9548 - val_loss: 0.1463\n",
            "Epoch 4/30\n",
            "\u001b[1m540/540\u001b[0m \u001b[32m━━━━━━━━━━━━━━━━━━━━\u001b[0m\u001b[37m\u001b[0m \u001b[1m5s\u001b[0m 5ms/step - accuracy: 0.9650 - loss: 0.1183 - val_accuracy: 0.9587 - val_loss: 0.1349\n",
            "Epoch 5/30\n",
            "\u001b[1m540/540\u001b[0m \u001b[32m━━━━━━━━━━━━━━━━━━━━\u001b[0m\u001b[37m\u001b[0m \u001b[1m5s\u001b[0m 5ms/step - accuracy: 0.9717 - loss: 0.0973 - val_accuracy: 0.9623 - val_loss: 0.1247\n",
            "Epoch 6/30\n",
            "\u001b[1m540/540\u001b[0m \u001b[32m━━━━━━━━━━━━━━━━━━━━\u001b[0m\u001b[37m\u001b[0m \u001b[1m3s\u001b[0m 6ms/step - accuracy: 0.9759 - loss: 0.0820 - val_accuracy: 0.9638 - val_loss: 0.1223\n",
            "Epoch 7/30\n",
            "\u001b[1m540/540\u001b[0m \u001b[32m━━━━━━━━━━━━━━━━━━━━\u001b[0m\u001b[37m\u001b[0m \u001b[1m3s\u001b[0m 5ms/step - accuracy: 0.9794 - loss: 0.0710 - val_accuracy: 0.9632 - val_loss: 0.1277\n",
            "Epoch 8/30\n",
            "\u001b[1m540/540\u001b[0m \u001b[32m━━━━━━━━━━━━━━━━━━━━\u001b[0m\u001b[37m\u001b[0m \u001b[1m5s\u001b[0m 5ms/step - accuracy: 0.9814 - loss: 0.0649 - val_accuracy: 0.9653 - val_loss: 0.1190\n",
            "Epoch 9/30\n",
            "\u001b[1m540/540\u001b[0m \u001b[32m━━━━━━━━━━━━━━━━━━━━\u001b[0m\u001b[37m\u001b[0m \u001b[1m5s\u001b[0m 5ms/step - accuracy: 0.9820 - loss: 0.0608 - val_accuracy: 0.9673 - val_loss: 0.1103\n",
            "Epoch 10/30\n",
            "\u001b[1m540/540\u001b[0m \u001b[32m━━━━━━━━━━━━━━━━━━━━\u001b[0m\u001b[37m\u001b[0m \u001b[1m3s\u001b[0m 5ms/step - accuracy: 0.9853 - loss: 0.0508 - val_accuracy: 0.9680 - val_loss: 0.1174\n",
            "Epoch 11/30\n",
            "\u001b[1m540/540\u001b[0m \u001b[32m━━━━━━━━━━━━━━━━━━━━\u001b[0m\u001b[37m\u001b[0m \u001b[1m3s\u001b[0m 4ms/step - accuracy: 0.9866 - loss: 0.0453 - val_accuracy: 0.9708 - val_loss: 0.1058\n",
            "Epoch 12/30\n",
            "\u001b[1m540/540\u001b[0m \u001b[32m━━━━━━━━━━━━━━━━━━━━\u001b[0m\u001b[37m\u001b[0m \u001b[1m5s\u001b[0m 5ms/step - accuracy: 0.9878 - loss: 0.0412 - val_accuracy: 0.9692 - val_loss: 0.1080\n",
            "Epoch 13/30\n",
            "\u001b[1m540/540\u001b[0m \u001b[32m━━━━━━━━━━━━━━━━━━━━\u001b[0m\u001b[37m\u001b[0m \u001b[1m3s\u001b[0m 5ms/step - accuracy: 0.9897 - loss: 0.0375 - val_accuracy: 0.9710 - val_loss: 0.1062\n"
          ]
        },
        {
          "output_type": "execute_result",
          "data": {
            "text/plain": [
              "<keras.src.callbacks.history.History at 0x7fe27f609890>"
            ]
          },
          "metadata": {},
          "execution_count": 63
        }
      ]
    },
    {
      "cell_type": "code",
      "source": [
        "test_loss, test_accuracy = model.evaluate(test_data)\n",
        "print('Test loss: {0:.2f}. Test accuracy: {1:.2f}%'.format(test_loss, test_accuracy*100.))"
      ],
      "metadata": {
        "colab": {
          "base_uri": "https://localhost:8080/"
        },
        "id": "jD9_CaKb_ChI",
        "outputId": "8c8d2389-2053-45f8-95db-bc3764bca40a"
      },
      "execution_count": 64,
      "outputs": [
        {
          "output_type": "stream",
          "name": "stdout",
          "text": [
            "\u001b[1m1/1\u001b[0m \u001b[32m━━━━━━━━━━━━━━━━━━━━\u001b[0m\u001b[37m\u001b[0m \u001b[1m1s\u001b[0m 663ms/step - accuracy: 0.9715 - loss: 0.1024\n",
            "Test loss: 0.10. Test accuracy: 97.15%\n"
          ]
        }
      ]
    },
    {
      "cell_type": "code",
      "source": [
        "import cv2\n",
        "import numpy as np\n",
        "import tensorflow as tf\n",
        "liczba_obrazkow = 9\n",
        "for i in range(1, liczba_obrazkow + 1):\n",
        "      filename = f'/content/sample_data/{i}.png'\n",
        "      try:\n",
        "          img = cv2.imread(filename, cv2.IMREAD_GRAYSCALE)\n",
        "          if img is None:\n",
        "            print(f\"Nie można załadować pliku: {filename}\")\n",
        "            continue\n",
        "          img_resized = cv2.resize(img, (28, 28))\n",
        "          img_normalized = img_resized / 255.0\n",
        "          img_reshaped = img_normalized.reshape(1, 28, 28, 1)\n",
        "          prediction = model.predict(img_reshaped, verbose=0)\n",
        "          predicted_class = np.argmax(prediction)\n",
        "          confidence = np.max(prediction) * 100\n",
        "          print(f\"{filename}: Model przewiduje {predicted_class} z pewnością {confidence:.2f}%\")\n",
        "      except Exception as e:\n",
        "          print(f\"Coś poszło nie tak z plikiem {filename}: {e}\")"
      ],
      "metadata": {
        "colab": {
          "base_uri": "https://localhost:8080/"
        },
        "id": "PgN0lPHo_siY",
        "outputId": "f951c9df-425d-4b69-9c6b-943cbfae4094"
      },
      "execution_count": 96,
      "outputs": [
        {
          "output_type": "stream",
          "name": "stdout",
          "text": [
            "/content/sample_data/1.png: Model przewiduje 3 z pewnością 99.99%\n",
            "/content/sample_data/2.png: Model przewiduje 8 z pewnością 91.83%\n",
            "/content/sample_data/3.png: Model przewiduje 5 z pewnością 96.46%\n",
            "/content/sample_data/4.png: Model przewiduje 6 z pewnością 99.38%\n",
            "/content/sample_data/5.png: Model przewiduje 2 z pewnością 99.86%\n",
            "/content/sample_data/6.png: Model przewiduje 0 z pewnością 90.34%\n",
            "/content/sample_data/7.png: Model przewiduje 8 z pewnością 99.82%\n",
            "/content/sample_data/8.png: Model przewiduje 3 z pewnością 89.05%\n",
            "/content/sample_data/9.png: Model przewiduje 6 z pewnością 97.41%\n"
          ]
        }
      ]
    }
  ]
}